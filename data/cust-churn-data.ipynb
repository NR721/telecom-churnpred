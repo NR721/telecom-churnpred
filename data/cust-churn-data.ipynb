{
 "cells": [
  {
   "cell_type": "code",
   "execution_count": 2,
   "id": "cf7f22a5-59c5-40fb-987e-2fca3d87f598",
   "metadata": {},
   "outputs": [
    {
     "name": "stdout",
     "output_type": "stream",
     "text": [
      "\n",
      "Column names: Index(['account_id', 'customer_id', 'tenure_months', 'num_referrals',\n",
      "       'has_internet_service', 'internet_type', 'has_unlimited_data',\n",
      "       'has_phone_service', 'has_multiple_lines', 'has_premium_tech_support',\n",
      "       'has_online_security', 'has_online_backup', 'has_device_protection',\n",
      "       'contract_type', 'paperless_billing', 'payment_method', 'account_id.1',\n",
      "       'avg_long_distance_fee_monthly', 'total_long_distance_fee',\n",
      "       'avg_gb_download_monthly', 'stream_tv', 'stream_movie', 'stream_music',\n",
      "       'total_monthly_fee', 'total_charges_quarter', 'total_refunds',\n",
      "       'customer_id.1', 'status', 'churn_label', 'churn_category',\n",
      "       'churn_reason', 'area_id', 'zip_code', 'city', 'latitude', 'longitude',\n",
      "       'population', 'customer_id.2', 'gender', 'age', 'senior_citizen',\n",
      "       'married', 'num_dependents', 'zip_code.1'],\n",
      "      dtype='object')\n",
      "\n",
      "Shape of dataset: (7043, 44)\n",
      "\n",
      "Missing values: account_id                          0\n",
      "customer_id                         0\n",
      "tenure_months                       0\n",
      "num_referrals                       0\n",
      "has_internet_service                0\n",
      "internet_type                    1526\n",
      "has_unlimited_data                  0\n",
      "has_phone_service                   0\n",
      "has_multiple_lines                  0\n",
      "has_premium_tech_support            0\n",
      "has_online_security                 0\n",
      "has_online_backup                   0\n",
      "has_device_protection               0\n",
      "contract_type                       0\n",
      "paperless_billing                   0\n",
      "payment_method                      0\n",
      "account_id.1                        0\n",
      "avg_long_distance_fee_monthly       0\n",
      "total_long_distance_fee             0\n",
      "avg_gb_download_monthly             0\n",
      "stream_tv                           0\n",
      "stream_movie                        0\n",
      "stream_music                        0\n",
      "total_monthly_fee                   0\n",
      "total_charges_quarter               0\n",
      "total_refunds                       0\n",
      "customer_id.1                       0\n",
      "status                              0\n",
      "churn_label                        52\n",
      "churn_category                   5174\n",
      "churn_reason                     5174\n",
      "area_id                             0\n",
      "zip_code                            0\n",
      "city                                0\n",
      "latitude                            0\n",
      "longitude                           0\n",
      "population                          0\n",
      "customer_id.2                       0\n",
      "gender                              0\n",
      "age                                 0\n",
      "senior_citizen                      0\n",
      "married                             0\n",
      "num_dependents                      0\n",
      "zip_code.1                          0\n",
      "dtype: int64\n",
      "Duplicate columns: Index([], dtype='object')\n"
     ]
    }
   ],
   "source": [
    "# IMPORT LIBRARIES\n",
    "import pandas as pd\n",
    "import matplotlib.pyplot as plt\n",
    "import seaborn as sns\n",
    "\n",
    "# SET MAX COLS AND ROWS\n",
    "pd.options.display.max_rows = 999\n",
    "pd.options.display.max_columns = 999\n",
    "\n",
    "# IMPORT DATA\n",
    "cust_churn_df = pd.read_csv('data/cust-churn-data-full.csv', low_memory=False)\n",
    "\n",
    "# PERFORM EDA\n",
    "print(\"\\nColumn names:\", cust_churn_df.columns)\n",
    "print(\"\\nShape of dataset:\", cust_churn_df.shape)\n",
    "print(\"\\nMissing values:\", cust_churn_df.isnull().sum())"
   ]
  },
  {
   "cell_type": "code",
   "execution_count": 4,
   "id": "c344f290-bb44-4b10-99b6-a2277f37b741",
   "metadata": {},
   "outputs": [
    {
     "name": "stdout",
     "output_type": "stream",
     "text": [
      "Duplicated columns: ['account_id.1', 'customer_id.1', 'customer_id.2', 'zip_code.1']\n"
     ]
    }
   ],
   "source": [
    "# REMOVE DUPLICATED COLS (indicated by suffix) FROM JOINING SQL TABLES\n",
    "dup_cols = [col for col in cust_churn_df.columns if '.' in col]\n",
    "print(f\"Duplicated columns: {dup_cols}\")\n",
    "\n",
    "eda_cust_churn_df = cust_churn_df.drop(['uen', 'issuance_agency_id', 'reg_street_name', 'reg_postal_code','entity_name'], axis=1)"
   ]
  },
  {
   "cell_type": "code",
   "execution_count": null,
   "id": "ac58eabe-c36b-4905-8841-55f84ead039d",
   "metadata": {},
   "outputs": [],
   "source": [
    "\n",
    "# upd_acra_df = acra_df.drop(['uen', 'issuance_agency_id', 'reg_street_name', 'reg_postal_code','entity_name'], axis=1)\n",
    "# print(\"\\nColumn names:\", upd_acra_df.columns)\n",
    "# print(\"\\nShape of dataset:\", upd_acra_df.shape)\n",
    "# print(\"\\nMissing values:\", upd_acra_df.isnull().sum())\n",
    "\n",
    "# upd_acra_df['uen_issue_date'] = pd.to_datetime(upd_acra_df['uen_issue_date'], format='%Y-%m-%d')\n",
    "# upd_acra_df['year'] = upd_acra_df['uen_issue_date'].dt.year\n",
    "# upd_acra_df['month'] = upd_acra_df['uen_issue_date'].dt.month\n",
    "\n",
    "# # Drop 2008 rows as it skews data - most entries originate in 2008\n",
    "# upd_acra_df = upd_acra_df[upd_acra_df['year'] != 2008]\n",
    "\n",
    "# upd_acra_df.head(10)"
   ]
  }
 ],
 "metadata": {
  "kernelspec": {
   "display_name": "Python 3 (ipykernel)",
   "language": "python",
   "name": "python3"
  },
  "language_info": {
   "codemirror_mode": {
    "name": "ipython",
    "version": 3
   },
   "file_extension": ".py",
   "mimetype": "text/x-python",
   "name": "python",
   "nbconvert_exporter": "python",
   "pygments_lexer": "ipython3",
   "version": "3.12.7"
  }
 },
 "nbformat": 4,
 "nbformat_minor": 5
}
